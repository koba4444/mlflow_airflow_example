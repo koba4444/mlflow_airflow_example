{
 "cells": [
  {
   "cell_type": "code",
   "execution_count": 6,
   "metadata": {},
   "outputs": [
    {
     "ename": "ModuleNotFoundError",
     "evalue": "No module named 'pyyoutube'",
     "output_type": "error",
     "traceback": [
      "\u001b[0;31m---------------------------------------------------------------------------\u001b[0m",
      "\u001b[0;31mModuleNotFoundError\u001b[0m                       Traceback (most recent call last)",
      "\u001b[0;32m<ipython-input-6-0c3405360b87>\u001b[0m in \u001b[0;36m<module>\u001b[0;34m\u001b[0m\n\u001b[0;32m----> 1\u001b[0;31m \u001b[0;32mfrom\u001b[0m \u001b[0mpyyoutube\u001b[0m \u001b[0;32mimport\u001b[0m \u001b[0mAPI\u001b[0m\u001b[0;34m\u001b[0m\u001b[0;34m\u001b[0m\u001b[0m\n\u001b[0m",
      "\u001b[0;31mModuleNotFoundError\u001b[0m: No module named 'pyyoutube'"
     ]
    }
   ],
   "source": [
    "from pyyoutube import API"
   ]
  },
  {
   "cell_type": "code",
   "execution_count": 2,
   "metadata": {},
   "outputs": [
    {
     "name": "stdout",
     "output_type": "stream",
     "text": [
      "Requirement already satisfied: python-youtube in /home/kok4444/education/auto-pipeline-airflow-mlflow/myvenv/lib/python3.8/site-packages (0.8.2)\n",
      "Requirement already satisfied: isodate<0.7.0,>=0.6.0 in /home/kok4444/education/auto-pipeline-airflow-mlflow/myvenv/lib/python3.8/site-packages (from python-youtube) (0.6.1)\n",
      "Requirement already satisfied: dataclasses-json<0.6.0,>=0.5.3 in /home/kok4444/education/auto-pipeline-airflow-mlflow/myvenv/lib/python3.8/site-packages (from python-youtube) (0.5.7)\n",
      "Requirement already satisfied: requests-oauthlib<2.0.0,>=1.3.0 in /home/kok4444/education/auto-pipeline-airflow-mlflow/myvenv/lib/python3.8/site-packages (from python-youtube) (1.3.1)\n",
      "Requirement already satisfied: requests<3.0.0,>=2.24.0 in /home/kok4444/education/auto-pipeline-airflow-mlflow/myvenv/lib/python3.8/site-packages (from python-youtube) (2.27.1)\n",
      "Requirement already satisfied: marshmallow-enum<2.0.0,>=1.5.1 in /home/kok4444/education/auto-pipeline-airflow-mlflow/myvenv/lib/python3.8/site-packages (from dataclasses-json<0.6.0,>=0.5.3->python-youtube) (1.5.1)\n",
      "Requirement already satisfied: typing-inspect>=0.4.0 in /home/kok4444/education/auto-pipeline-airflow-mlflow/myvenv/lib/python3.8/site-packages (from dataclasses-json<0.6.0,>=0.5.3->python-youtube) (0.7.1)\n",
      "Requirement already satisfied: marshmallow<4.0.0,>=3.3.0 in /home/kok4444/education/auto-pipeline-airflow-mlflow/myvenv/lib/python3.8/site-packages (from dataclasses-json<0.6.0,>=0.5.3->python-youtube) (3.15.0)\n",
      "Requirement already satisfied: six in /home/kok4444/education/auto-pipeline-airflow-mlflow/myvenv/lib/python3.8/site-packages (from isodate<0.7.0,>=0.6.0->python-youtube) (1.16.0)\n",
      "Requirement already satisfied: certifi>=2017.4.17 in /home/kok4444/education/auto-pipeline-airflow-mlflow/myvenv/lib/python3.8/site-packages (from requests<3.0.0,>=2.24.0->python-youtube) (2022.5.18.1)\n",
      "Requirement already satisfied: urllib3<1.27,>=1.21.1 in /home/kok4444/education/auto-pipeline-airflow-mlflow/myvenv/lib/python3.8/site-packages (from requests<3.0.0,>=2.24.0->python-youtube) (1.26.9)\n",
      "Requirement already satisfied: charset-normalizer~=2.0.0 in /home/kok4444/education/auto-pipeline-airflow-mlflow/myvenv/lib/python3.8/site-packages (from requests<3.0.0,>=2.24.0->python-youtube) (2.0.12)\n",
      "Requirement already satisfied: idna<4,>=2.5 in /home/kok4444/education/auto-pipeline-airflow-mlflow/myvenv/lib/python3.8/site-packages (from requests<3.0.0,>=2.24.0->python-youtube) (3.3)\n",
      "Requirement already satisfied: oauthlib>=3.0.0 in /home/kok4444/education/auto-pipeline-airflow-mlflow/myvenv/lib/python3.8/site-packages (from requests-oauthlib<2.0.0,>=1.3.0->python-youtube) (3.2.0)\n",
      "Requirement already satisfied: packaging in /home/kok4444/education/auto-pipeline-airflow-mlflow/myvenv/lib/python3.8/site-packages (from marshmallow<4.0.0,>=3.3.0->dataclasses-json<0.6.0,>=0.5.3->python-youtube) (21.3)\n",
      "Requirement already satisfied: typing-extensions>=3.7.4 in /home/kok4444/education/auto-pipeline-airflow-mlflow/myvenv/lib/python3.8/site-packages (from typing-inspect>=0.4.0->dataclasses-json<0.6.0,>=0.5.3->python-youtube) (4.2.0)\n",
      "Requirement already satisfied: mypy-extensions>=0.3.0 in /home/kok4444/education/auto-pipeline-airflow-mlflow/myvenv/lib/python3.8/site-packages (from typing-inspect>=0.4.0->dataclasses-json<0.6.0,>=0.5.3->python-youtube) (0.4.3)\n",
      "Requirement already satisfied: pyparsing!=3.0.5,>=2.0.2 in /home/kok4444/education/auto-pipeline-airflow-mlflow/myvenv/lib/python3.8/site-packages (from packaging->marshmallow<4.0.0,>=3.3.0->dataclasses-json<0.6.0,>=0.5.3->python-youtube) (3.0.9)\n"
     ]
    }
   ],
   "source": [
    "!pip install --upgrade python-youtube"
   ]
  },
  {
   "cell_type": "code",
   "execution_count": null,
   "metadata": {},
   "outputs": [],
   "source": []
  }
 ],
 "metadata": {
  "kernelspec": {
   "display_name": "Python 3",
   "language": "python",
   "name": "python3"
  },
  "language_info": {
   "codemirror_mode": {
    "name": "ipython",
    "version": 3
   },
   "file_extension": ".py",
   "mimetype": "text/x-python",
   "name": "python",
   "nbconvert_exporter": "python",
   "pygments_lexer": "ipython3",
   "version": "3.8.5"
  }
 },
 "nbformat": 4,
 "nbformat_minor": 4
}
